{
 "cells": [
  {
   "cell_type": "code",
   "execution_count": 2,
   "metadata": {
    "collapsed": true
   },
   "outputs": [],
   "source": [
    "### Import Statements ###\n",
    "import pandas as pd\n",
    "import numpy as np\n",
    "import matplotlib.pyplot as plt\n",
    "import seaborn as sns\n",
    "import missingno as ms\n",
    "from datetime import datetime\n",
    "from sklearn.feature_extraction.text import CountVectorizer\n",
    "from sklearn.pipeline import Pipeline\n",
    "from sklearn.feature_extraction.text import TfidfTransformer\n",
    "from sklearn.naive_bayes import MultinomialNB\n",
    "from sklearn.linear_model import LogisticRegression, LinearRegression\n",
    "from sklearn.svm import SVC, NuSVC, LinearSVC\n",
    "from sklearn.linear_model import LogisticRegressionCV\n",
    "from scipy.sparse import coo_matrix, hstack\n",
    "import scipy"
   ]
  },
  {
   "cell_type": "code",
   "execution_count": 120,
   "metadata": {},
   "outputs": [],
   "source": [
    "df = pd.read_csv('test.csv')"
   ]
  },
  {
   "cell_type": "code",
   "execution_count": 121,
   "metadata": {
    "collapsed": true
   },
   "outputs": [],
   "source": [
    "def droping_features(feature_names,dt):\n",
    "    dt.drop(feature_names,axis=1,inplace=True)"
   ]
  },
  {
   "cell_type": "code",
   "execution_count": 122,
   "metadata": {
    "collapsed": true
   },
   "outputs": [],
   "source": [
    "df['desc'].fillna(' ',inplace=True)\n",
    "df['name'].fillna(' ',inplace=True)\n",
    "df['keywords'].fillna(' ',inplace=True)\n",
    "df['goal'].fillna(' ',inplace=True)\n",
    "df['currency'].fillna(' ',inplace=True)"
   ]
  },
  {
   "cell_type": "code",
   "execution_count": 104,
   "metadata": {
    "collapsed": true
   },
   "outputs": [],
   "source": [
    "#converting each text column into vectorized form. CountVectorizer\n",
    "count_vect = CountVectorizer()\n",
    "count_vect2 = CountVectorizer()\n",
    "X_train_counts = count_vect.fit_transform(df['desc'])\n",
    "X_train_counts2 = count_vect2.fit_transform(df['name'])\n",
    "count_vect3 = CountVectorizer()\n",
    "X_train_counts3 = count_vect3.fit_transform(df['keywords'])"
   ]
  },
  {
   "cell_type": "code",
   "execution_count": 105,
   "metadata": {
    "collapsed": true
   },
   "outputs": [],
   "source": [
    "count_vect4 = CountVectorizer()\n",
    "X_train_counts4 = count_vect4.fit_transform(df['goal'].astype('str'))"
   ]
  },
  {
   "cell_type": "code",
   "execution_count": 106,
   "metadata": {
    "collapsed": true
   },
   "outputs": [],
   "source": [
    "count_vect5 = CountVectorizer()\n",
    "X_train_counts5 = count_vect5.fit_transform(df['currency'])"
   ]
  },
  {
   "cell_type": "code",
   "execution_count": 109,
   "metadata": {
    "collapsed": true
   },
   "outputs": [],
   "source": [
    "#Removing Stop words or IDF words like the, an, and etc.. using TfidfTransformer\n",
    "tf_transformer = TfidfTransformer(use_idf=False).fit(X_train_counts)\n",
    "X_train_tf = tf_transformer.transform(X_train_counts)\n",
    "tfidf_transformer = TfidfTransformer()\n",
    "X_train_tfidf = tfidf_transformer.fit_transform(X_train_counts)\n",
    "tf_transformer2 = TfidfTransformer(use_idf=False).fit(X_train_counts2)\n",
    "X_train_tf2 = tf_transformer2.transform(X_train_counts2)\n",
    "tfidf_transformer2 = TfidfTransformer()\n",
    "X_train_tfidf2 = tfidf_transformer2.fit_transform(X_train_counts2)\n",
    "tf_transformer3 = TfidfTransformer(use_idf=False).fit(X_train_counts3)\n",
    "X_train_tf3 = tf_transformer3.transform(X_train_counts3)\n",
    "tfidf_transformer3 = TfidfTransformer()\n",
    "X_train_tfidf3 = tfidf_transformer3.fit_transform(X_train_counts3)"
   ]
  },
  {
   "cell_type": "code",
   "execution_count": 110,
   "metadata": {
    "collapsed": true
   },
   "outputs": [],
   "source": [
    "tf_transformer4 = TfidfTransformer(use_idf=False).fit(X_train_counts4)\n",
    "X_train_tf4 = tf_transformer4.transform(X_train_counts4)\n",
    "tfidf_transformer4 = TfidfTransformer()\n",
    "X_train_tfidf4 = tfidf_transformer4.fit_transform(X_train_counts4)"
   ]
  },
  {
   "cell_type": "code",
   "execution_count": 111,
   "metadata": {
    "collapsed": true
   },
   "outputs": [],
   "source": [
    "tf_transformer5 = TfidfTransformer(use_idf=False).fit(X_train_counts5)\n",
    "X_train_tf5 = tf_transformer5.transform(X_train_counts5)\n",
    "tfidf_transformer5 = TfidfTransformer()\n",
    "X_train_tfidf5 = tfidf_transformer5.fit_transform(X_train_counts5)"
   ]
  },
  {
   "cell_type": "code",
   "execution_count": 118,
   "metadata": {},
   "outputs": [
    {
     "data": {
      "text/plain": [
       "(108129, 302261)"
      ]
     },
     "execution_count": 118,
     "metadata": {},
     "output_type": "execute_result"
    }
   ],
   "source": [
    "#combining columns for model using hstack and savig it into csr format.\n",
    "main = hstack([X_train_tfidf2,X_train_tfidf,X_train_tfidf3,X_train_tfidf4,X_train_tfidf5],format='csr')\n",
    "main.shape"
   ]
  },
  {
   "cell_type": "code",
   "execution_count": 119,
   "metadata": {
    "collapsed": true
   },
   "outputs": [],
   "source": [
    "#giving $main file for fiting the algorihtm.\n",
    "clf_l = LogisticRegression().fit(main, df['final_status'])"
   ]
  },
  {
   "cell_type": "markdown",
   "metadata": {},
   "source": [
    "# For Converting test data for prediction"
   ]
  },
  {
   "cell_type": "code",
   "execution_count": 123,
   "metadata": {},
   "outputs": [
    {
     "data": {
      "text/plain": [
       "(63465, 302261)"
      ]
     },
     "execution_count": 123,
     "metadata": {},
     "output_type": "execute_result"
    }
   ],
   "source": [
    "X_new_counts = count_vect.transform(df['desc'])\n",
    "X_new_tfidf = tfidf_transformer.transform(X_new_counts)\n",
    "X_new_counts2 = count_vect2.transform(df['name'])\n",
    "X_new_tfidf2 = tfidf_transformer2.transform(X_new_counts2)\n",
    "X_new_counts3 = count_vect3.transform(df['keywords'])\n",
    "X_new_tfidf3 = tfidf_transformer3.transform(X_new_counts3)\n",
    "X_new_counts4 = count_vect4.transform(df['goal'].astype('str'))\n",
    "X_new_tfidf4 = tfidf_transformer4.transform(X_new_counts4)\n",
    "X_new_counts5 = count_vect5.transform(df['currency'])\n",
    "X_new_tfidf5 = tfidf_transformer5.transform(X_new_counts5)\n",
    "main = hstack([X_new_tfidf2,X_new_tfidf,X_new_tfidf3,X_new_counts4,X_new_counts5],format='csr')\n",
    "main.shape\n",
    "#"
   ]
  },
  {
   "cell_type": "code",
   "execution_count": 124,
   "metadata": {
    "collapsed": true
   },
   "outputs": [],
   "source": [
    "predicted = clf_l.predict(main)"
   ]
  },
  {
   "cell_type": "code",
   "execution_count": 125,
   "metadata": {
    "collapsed": true
   },
   "outputs": [],
   "source": [
    "final_predict = pd.DataFrame(predicted,columns=['final_status'])"
   ]
  },
  {
   "cell_type": "code",
   "execution_count": 126,
   "metadata": {
    "collapsed": true
   },
   "outputs": [],
   "source": [
    "result = pd.DataFrame(df['project_id'],columns=['project_id'])"
   ]
  },
  {
   "cell_type": "code",
   "execution_count": 127,
   "metadata": {
    "collapsed": true
   },
   "outputs": [],
   "source": [
    "result = pd.concat([result,final_predict],axis=1)"
   ]
  },
  {
   "cell_type": "code",
   "execution_count": 128,
   "metadata": {
    "collapsed": true
   },
   "outputs": [],
   "source": [
    "result.to_csv('final_predictions2.csv',index=False)"
   ]
  }
 ],
 "metadata": {
  "kernelspec": {
   "display_name": "Python 3",
   "language": "python",
   "name": "python3"
  },
  "language_info": {
   "codemirror_mode": {
    "name": "ipython",
    "version": 3
   },
   "file_extension": ".py",
   "mimetype": "text/x-python",
   "name": "python",
   "nbconvert_exporter": "python",
   "pygments_lexer": "ipython3",
   "version": "3.6.1"
  }
 },
 "nbformat": 4,
 "nbformat_minor": 2
}
